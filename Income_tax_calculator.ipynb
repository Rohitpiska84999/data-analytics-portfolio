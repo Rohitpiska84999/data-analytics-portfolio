{
 "cells": [
  {
   "cell_type": "markdown",
   "metadata": {},
   "source": [
    "#### Income Tax Calculator [ Basic ]\n",
    "    Total Income = 12,00,000\n",
    "    \n",
    "    Income tax slabs and rates under the old regime:\n",
    "    Annual Income (Rs.)                Tax Rate\n",
    "    Up to Rs. 2.5 lakhs\t            Nil\n",
    "    Rs. 2.5 lakhs to Rs. 5 lakhs       5%\n",
    "    Rs. 5 lakhs to Rs. 10 lakhs\t    20%\n",
    "    Above Rs. 10 lakhs \t            30%"
   ]
  },
  {
   "cell_type": "code",
   "execution_count": 1,
   "metadata": {},
   "outputs": [],
   "source": [
    "total_income = 1200000"
   ]
  },
  {
   "cell_type": "code",
   "execution_count": 2,
   "metadata": {},
   "outputs": [
    {
     "name": "stdout",
     "output_type": "stream",
     "text": [
      "185000.0\n"
     ]
    }
   ],
   "source": [
    "if total_income <= 250000:\n",
    "    income_tax = 0.0\n",
    "elif total_income > 250000 and total_income <= 500000:\n",
    "    income_tax = (500000 - 250000) * 0.05\n",
    "elif total_income > 500000 and total_income <= 1000000:\n",
    "    income_tax = ((500000 - 250000) * 0.10) + ((1000000 - 500000) * 0.20)\n",
    "else:\n",
    "    income_tax = ((500000 - 250000) * 0.10) + ((1000000 - 500000) * 0.20) + ((total_income - 1000000) * 0.30)\n",
    "print(income_tax)"
   ]
  },
  {
   "cell_type": "code",
   "execution_count": null,
   "metadata": {},
   "outputs": [],
   "source": []
  }
 ],
 "metadata": {
  "kernelspec": {
   "display_name": "Python 3.9.7 ('base')",
   "language": "python",
   "name": "python3"
  },
  "language_info": {
   "codemirror_mode": {
    "name": "ipython",
    "version": 3
   },
   "file_extension": ".py",
   "mimetype": "text/x-python",
   "name": "python",
   "nbconvert_exporter": "python",
   "pygments_lexer": "ipython3",
   "version": "3.9.7"
  },
  "orig_nbformat": 4,
  "vscode": {
   "interpreter": {
    "hash": "610a6f344c2137faf927ea819c63f6cee33a2c04455044b28099f39fe9722347"
   }
  }
 },
 "nbformat": 4,
 "nbformat_minor": 2
}
